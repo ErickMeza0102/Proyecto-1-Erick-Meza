{
  "cells": [
    {
      "cell_type": "code",
      "execution_count": null,
      "metadata": {
        "id": "z57L8moJeJYz"
      },
      "outputs": [],
      "source": [
        "import pandas as pd\n",
        "import matplotlib.pyplot as plt"
      ]
    },
    {
      "cell_type": "markdown",
      "metadata": {
        "id": "8KFa_9Uy8M-v"
      },
      "source": [
        "1) Hacer una gráfica del promedio de Diaphorinas por trampa para cada mes de  los  años  2015, 2017, 2020. \n",
        "\n",
        "Es  decir  una  gráfica  por  cada  año  donde el eje horizontal esté el mes y el vertical el promedio de diaphorinas por trampa."
      ]
    },
    {
      "cell_type": "code",
      "execution_count": null,
      "metadata": {
        "id": "-9-rUxpie7Fd"
      },
      "outputs": [],
      "source": [
        "path = 'capturas_2015-2020.xlsx'"
      ]
    },
    {
      "cell_type": "code",
      "execution_count": null,
      "metadata": {
        "id": "nAnNWW1Ps-hm"
      },
      "outputs": [],
      "source": [
        "df15= pd.read_excel(path,sheet_name='2015')\n",
        "df15=df15.set_index('Mes')\n",
        "prom15 = pd.DataFrame(df15.groupby(level=['Mes'])['No_DiaphorinasXtrampa'].mean())\n",
        "prom15\n",
        "g15 = prom15.plot( kind=\"bar\", title=\"Diaphorinas en promedio por trampa mensualmente en 2015\",color=\"blue\")"
      ]
    },
    {
      "cell_type": "code",
      "execution_count": null,
      "metadata": {
        "id": "l0MYriTUazNd"
      },
      "outputs": [],
      "source": [
        "df17=pd.read_excel(path, sheet_name='2017')\n",
        "df17=df17.set_index('Mes')\n",
        "prom17 = pd.DataFrame(df17.groupby(level=['Mes'])['No_DiaphorinasXtrampa'].mean())\n",
        "prom17\n",
        "g17 = prom17.plot(kind=\"bar\",title=\"Diaphorinas en promedio por trampa mensualmente en 2017\",color=\"green\")"
      ]
    },
    {
      "cell_type": "code",
      "execution_count": null,
      "metadata": {
        "id": "-zzvL-nTdApd"
      },
      "outputs": [],
      "source": [
        "df20=pd.read_excel(path, sheet_name='2020')\n",
        "df20=df20.set_index('Mes')\n",
        "prom20 = pd.DataFrame(df20.groupby(level=['Mes'])['DiaphorinaXTrampa'].mean())\n",
        "prom20\n",
        "g20 = prom20.plot(kind=\"bar\",title=\"Diaphorinas en promedio por trampa mensualmente en 2020\",color=\"red\")"
      ]
    },
    {
      "cell_type": "markdown",
      "metadata": {
        "id": "A1puIER077V2"
      },
      "source": [
        "2) Hacer una gráfica del promedio de Diaphorinas por trampa para cada mes del año 2020 pero sólo de un municipio."
      ]
    },
    {
      "cell_type": "code",
      "execution_count": null,
      "metadata": {
        "id": "ziAgxoAA76pn"
      },
      "outputs": [],
      "source": [
        "df2=pd.read_excel(path, sheet_name='2020')\n",
        "df2=df2.set_index('Municipio')\n",
        "df2=df2.set_index([df2.index, 'Mes'])\n",
        "prom20 = pd.DataFrame(df2.groupby(level=[0,1])['DiaphorinaXTrampa'].mean())\n",
        "prom20.loc['VICTORIA'].plot(kind=\"bar\",title=\"Promedio de diaphorinas por trampa en Victoria\",color=\"red\")"
      ]
    },
    {
      "cell_type": "markdown",
      "metadata": {
        "id": "Z-kqdMac7RqZ"
      },
      "source": [
        "3) Hacer una tabla donde la primera columna sea el mes, la segunda columna sea \n",
        "el índice Id (por trampa) y la tercera el índice Cx para el año 2015."
      ]
    },
    {
      "cell_type": "code",
      "execution_count": null,
      "metadata": {
        "id": "2IK7HNKrHecE"
      },
      "outputs": [],
      "source": [
        "prom15"
      ]
    },
    {
      "cell_type": "code",
      "execution_count": null,
      "metadata": {
        "id": "GHefYdWL7xLC"
      },
      "outputs": [],
      "source": [
        "var15 = pd.DataFrame(df15.groupby(level=['Mes'])['No_DiaphorinasXtrampa'].var())\n",
        "var15"
      ]
    },
    {
      "cell_type": "code",
      "execution_count": null,
      "metadata": {
        "id": "Ua6l_waDGns-"
      },
      "outputs": [],
      "source": [
        "ntab= var15/prom15\n",
        "ntab.rename( columns={\"No_DiaphorinasXtrampa\":'Indice de Dispersión (Id)'},inplace=True) \n",
        "ntab"
      ]
    },
    {
      "cell_type": "code",
      "execution_count": null,
      "metadata": {
        "id": "JCxgwmJABVKV"
      },
      "outputs": [],
      "source": [
        "sum15 = pd.DataFrame(df15.groupby(level=['Mes'])['No_DiaphorinasXtrampa'].sum())\n",
        "\n",
        "sum15"
      ]
    },
    {
      "cell_type": "code",
      "execution_count": null,
      "metadata": {
        "id": "ZbpeB6ELG_0N"
      },
      "outputs": [],
      "source": [
        "ntab[\"Coeficiente de Green (C_x)\"]= var15/prom15 - 1 / sum15 - 1\n",
        "ntab"
      ]
    },
    {
      "cell_type": "code",
      "execution_count": null,
      "metadata": {
        "id": "GfPyBVLyHm_G"
      },
      "outputs": [],
      "source": [
        "ntab"
      ]
    }
  ],
  "metadata": {
    "colab": {
      "provenance": []
    },
    "kernelspec": {
      "display_name": "Python 3",
      "name": "python3"
    },
    "language_info": {
      "name": "python"
    }
  },
  "nbformat": 4,
  "nbformat_minor": 0
}